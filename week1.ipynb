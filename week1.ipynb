{
 "cells": [
  {
   "cell_type": "code",
   "execution_count": 3,
   "metadata": {},
   "outputs": [
    {
     "name": "stdout",
     "output_type": "stream",
     "text": [
      "hello world\n"
     ]
    }
   ],
   "source": [
    "print(\"hello world\")\n"
   ]
  },
  {
   "cell_type": "code",
   "execution_count": 1,
   "metadata": {},
   "outputs": [
    {
     "name": "stdout",
     "output_type": "stream",
     "text": [
      "hello\n"
     ]
    }
   ],
   "source": [
    "print('hello')"
   ]
  },
  {
   "cell_type": "markdown",
   "metadata": {},
   "source": [
    "Both work "
   ]
  },
  {
   "cell_type": "code",
   "execution_count": null,
   "metadata": {},
   "outputs": [],
   "source": [
    "102 + 37 #Add two numbers with +\n",
    "102 - 37 # Subtract a number with -\n",
    "4 * 6 # Multiply two numbers with *\n",
    "22 / 7 # Divide a number by another with /\n",
    "22 // 7 # Integer divide a number with //\n",
    "3 ** 4 # Raise to the power with **\n",
    "22 % 7 # Returns 1 # Get the remainder  after division with %"
   ]
  },
  {
   "cell_type": "code",
   "execution_count": null,
   "metadata": {},
   "outputs": [],
   "source": [
    "3 == 3 # Test for equality with ==\n",
    "3 != 3 # Test for inequality with !=\n",
    "3 > 1 # Test greater than with >\n",
    "3 >= 3 # Test greater than or equal to with >=\n",
    "3 < 4 # Test less than with <\n",
    "3 <= 4 # Test less than or equal to with <="
   ]
  },
  {
   "cell_type": "code",
   "execution_count": null,
   "metadata": {},
   "outputs": [],
   "source": [
    "# Create lists with [], elements separated by commas\n",
    "x = [1, 3, 2]"
   ]
  },
  {
   "cell_type": "code",
   "execution_count": null,
   "metadata": {},
   "outputs": [],
   "source": [
    "# Return a sorted copy of the list x\n",
    "sorted(x) # Returns [1, 2, 3]\n",
    "\n",
    "# Sort the list in-place (replaces x)\n",
    "x.sort() # Returns None\n",
    "\n",
    "# Reverse the order of elements in x\n",
    "reversed(x) # Returns [2, 3, 1]\n",
    "\n",
    "# Reverse the list in-place\n",
    "x.reversed() # Returns None\n",
    "\n",
    "# Count the number of element 2 in the list\n",
    "x.count(2)"
   ]
  },
  {
   "cell_type": "code",
   "execution_count": null,
   "metadata": {},
   "outputs": [],
   "source": [
    "# Define the list \n",
    "x = ['a', 'b', 'c', 'd', 'e']\n",
    "\n",
    "# Select the 0th element in the list\n",
    "x[0] # 'a'\n",
    "\n",
    "# Select the last element in the list\n",
    "x[-1] # 'e'\n",
    "\n",
    "# Select 1st (inclusive) to 3rd (exclusive)\n",
    "x[1:3] # ['b', 'c']\n",
    "\n",
    "# Select the 2nd to the end\n",
    "x[2:] # ['c', 'd', 'e']\n",
    "\n",
    "# Select 0th to 3rd (exclusive)\n",
    "x[:3] # ['a', 'b', 'c']"
   ]
  },
  {
   "cell_type": "code",
   "execution_count": null,
   "metadata": {},
   "outputs": [],
   "source": [
    "# Define the dictionary\n",
    "a = {'a': 1, 'b': 2, 'c': 3}\n",
    "\n",
    "# Get the keys\n",
    "x.keys() # dict_keys(['a', 'b', 'c'])\n",
    "\n",
    "# Get  the values\n",
    "x.values() # dict_values([1, 2, 3])\n",
    "\n",
    "# Get a value from a dictionary by specifying the key\n",
    "x['a'] # 1"
   ]
  },
  {
   "cell_type": "code",
   "execution_count": null,
   "metadata": {},
   "outputs": [],
   "source": [
    "import numpy as np\n",
    "\n",
    "\n",
    "# Convert a python list to a NumPy array\n",
    "np.array([1, 2, 3]) # array([1, 2, 3])\n",
    "\n",
    "# Return a sequence from start (inclusive) to end (exclusive)\n",
    "np.arange(1,5) # array([1, 2, 3, 4])\n",
    "\n",
    "# Return a stepped sequence from start (inclusive) to end (exclusive)\n",
    "np.arange(1,5,2) # array([1, 3])\n",
    "\n",
    "# Repeat values n times\n",
    "np.repeat([1, 3, 6], 3) # array([1, 1, 1, 3, 3, 3, 6, 6, 6])\n",
    "\n",
    "# Repeat values n times\n",
    "np.tile([1, 3, 6], 3) # array([1, 3, 6, 1, 3, 6, 1, 3, 6])"
   ]
  },
  {
   "cell_type": "code",
   "execution_count": null,
   "metadata": {},
   "outputs": [],
   "source": [
    "# Concatenate strings with +\n",
    "\"Data\" + \"Framed\" # 'DataFramed'\n",
    "\n",
    "# Repeat strings with *\n",
    "3 * \"data \" # 'data data data '\n",
    "\n",
    "# Split a string on a delimiter\n",
    "\"beekeepers\".split(\"e\") # ['b', '', 'k', '', 'p', 'rs']"
   ]
  },
  {
   "cell_type": "code",
   "execution_count": null,
   "metadata": {},
   "outputs": [],
   "source": [
    "# Create a string named str\n",
    "str = \"Jack and Jill\"\n",
    "\n",
    "# Convert a string to uppercase\n",
    "str.upper() # 'JACK AND JILL'\n",
    "\n",
    "# Convert a string to lowercase\n",
    "str.lower() # 'jack and jill'\n",
    "\n",
    "# Convert a string to title case\n",
    "str.title() # 'Jack And Jill' \n",
    "\n",
    "# Replaces matches of a substring with another\n",
    "str.replace(\"J\", \"P\") # 'Pack and Pill'"
   ]
  },
  {
   "cell_type": "code",
   "execution_count": null,
   "metadata": {},
   "outputs": [],
   "source": []
  }
 ],
 "metadata": {
  "kernelspec": {
   "display_name": "base",
   "language": "python",
   "name": "python3"
  },
  "language_info": {
   "codemirror_mode": {
    "name": "ipython",
    "version": 3
   },
   "file_extension": ".py",
   "mimetype": "text/x-python",
   "name": "python",
   "nbconvert_exporter": "python",
   "pygments_lexer": "ipython3",
   "version": "3.11.4"
  }
 },
 "nbformat": 4,
 "nbformat_minor": 2
}
