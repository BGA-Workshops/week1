{
 "cells": [
  {
   "cell_type": "code",
   "execution_count": null,
   "metadata": {},
   "outputs": [],
   "source": [
    "print(\"hello world\")\n"
   ]
  },
  {
   "cell_type": "code",
   "execution_count": null,
   "metadata": {},
   "outputs": [],
   "source": [
    "print('hello')"
   ]
  },
  {
   "cell_type": "markdown",
   "metadata": {},
   "source": [
    "Both work "
   ]
  },
  {
   "cell_type": "code",
   "execution_count": null,
   "metadata": {},
   "outputs": [],
   "source": [
    "102 + 37 #Add two numbers with +\n",
    "102 - 37 # Subtract a number with -\n",
    "4 * 6 # Multiply two numbers with *\n",
    "22 / 7 # Divide a number by another with /\n",
    "22 // 7 # Integer divide a number with //\n",
    "3 ** 4 # Raise to the power with **\n",
    "22 % 7 # Returns 1 # Get the remainder  after division with %"
   ]
  },
  {
   "cell_type": "code",
   "execution_count": null,
   "metadata": {},
   "outputs": [],
   "source": [
    "print(\"102 + 37 =\", 102 + 37)\n",
    "print(\"102 - 37 =\", 102 - 37)\n",
    "print(\"4 * 6 =\", 4 * 6)\n",
    "print(\"22 / 7 =\", 22 / 7)\n",
    "print(\"22 / 7\", int(22 / 7))\n",
    "print(\"22 // 7 =\", 22 // 7)\n",
    "print(\"3 ** 4 =\", 3 ** 4)\n",
    "print(\"22 % 7 =\", 22 % 7)"
   ]
  },
  {
   "cell_type": "code",
   "execution_count": null,
   "metadata": {},
   "outputs": [],
   "source": [
    "3 == 3 # Test for equality with ==\n",
    "3 != 3 # Test for inequality with !=\n",
    "3 > 1 # Test greater than with >\n",
    "3 >= 3 # Test greater than or equal to with >=\n",
    "3 < 4 # Test less than with <\n",
    "3 <= 4 # Test less than or equal to with <="
   ]
  },
  {
   "cell_type": "code",
   "execution_count": 4,
   "metadata": {},
   "outputs": [
    {
     "name": "stdout",
     "output_type": "stream",
     "text": [
      "3 == 3: True\n",
      "3 != 3: False\n",
      "3 > 1: True\n",
      "3 >= 3: True\n",
      "3 < 4: True\n",
      "3 <= 4: True\n"
     ]
    }
   ],
   "source": [
    "print(\"3 == 3:\", 3 == 3)\n",
    "print(\"3 != 3:\", 3 != 3)\n",
    "print(\"3 > 1:\", 3 > 1)\n",
    "print(\"3 >= 3:\", 3 >= 3)\n",
    "print(\"3 < 4:\", 3 < 4)\n",
    "print(\"3 <= 4:\", 3 <= 4)\n"
   ]
  },
  {
   "cell_type": "code",
   "execution_count": 5,
   "metadata": {},
   "outputs": [],
   "source": [
    "# Create lists with [], elements separated by commas\n",
    "x = [1, 3, 2]"
   ]
  },
  {
   "cell_type": "code",
   "execution_count": 7,
   "metadata": {},
   "outputs": [
    {
     "name": "stdout",
     "output_type": "stream",
     "text": [
      "[1, 2, 3]\n",
      "[1, 2, 3]\n",
      "[3, 2, 1]\n",
      "[3, 2, 1]\n",
      "1\n"
     ]
    }
   ],
   "source": [
    "# Return a sorted copy of the list x\n",
    "print(sorted(x))  # Returns [1, 2, 3]\n",
    "\n",
    "# Sort the list in-place (replaces x)\n",
    "x.sort()\n",
    "print(x)  # x is now [1, 2, 3]\n",
    "\n",
    "# Reverse the order of elements in x\n",
    "print(list(reversed(x)))  # Returns [3, 2, 1]\n",
    "\n",
    "# Reverse the list in-place\n",
    "x.reverse()\n",
    "print(x)  # x is now [3, 2, 1]\n",
    "\n",
    "# Count the number of element 2 in the list\n",
    "print(x.count(2))  # Returns 1"
   ]
  },
  {
   "cell_type": "code",
   "execution_count": 8,
   "metadata": {},
   "outputs": [
    {
     "name": "stdout",
     "output_type": "stream",
     "text": [
      "a\n",
      "e\n",
      "['b', 'c']\n",
      "['c', 'd', 'e']\n",
      "['a', 'b', 'c']\n"
     ]
    }
   ],
   "source": [
    "# Define the list\n",
    "x = ['a', 'b', 'c', 'd', 'e']\n",
    "\n",
    "# Select the 0th element in the list\n",
    "print(x[0])  # 'a'\n",
    "\n",
    "# Select the last element in the list\n",
    "print(x[-1])  # 'e'\n",
    "\n",
    "# Select 1st (inclusive) to 3rd (exclusive)\n",
    "print(x[1:3])  # ['b', 'c']\n",
    "\n",
    "# Select the 2nd to the end\n",
    "print(x[2:])  # ['c', 'd', 'e']\n",
    "\n",
    "# Select 0th to 3rd (exclusive)\n",
    "print(x[:3])  # ['a', 'b', 'c']\n"
   ]
  },
  {
   "cell_type": "code",
   "execution_count": 11,
   "metadata": {},
   "outputs": [
    {
     "name": "stdout",
     "output_type": "stream",
     "text": [
      "dict_keys(['a', 'b', 'c'])\n",
      "dict_values([1, 2, 3])\n",
      "1\n"
     ]
    }
   ],
   "source": [
    "# Define the dictionary\n",
    "a = {'a': 1, 'b': 2, 'c': 3}\n",
    "\n",
    "# Get the keys\n",
    "print(a.keys())  # dict_keys(['a', 'b', 'c'])\n",
    "\n",
    "# Get the values\n",
    "print(a.values())  # dict_values([1, 2, 3])\n",
    "\n",
    "# Get a value from a dictionary by specifying the key\n",
    "print(a['a'])  # 1\n"
   ]
  },
  {
   "cell_type": "code",
   "execution_count": null,
   "metadata": {},
   "outputs": [],
   "source": [
    "# Concatenate strings with +\n",
    "\"Data\" + \"Framed\" # 'DataFramed'\n",
    "\n",
    "# Repeat strings with *\n",
    "3 * \"data \" # 'data data data '\n",
    "\n",
    "# Split a string on a delimiter\n",
    "\"beekeepers\".split(\"e\") # ['b', '', 'k', '', 'p', 'rs']"
   ]
  },
  {
   "cell_type": "code",
   "execution_count": 12,
   "metadata": {},
   "outputs": [
    {
     "data": {
      "text/plain": [
       "'Pack and Pill'"
      ]
     },
     "execution_count": 12,
     "metadata": {},
     "output_type": "execute_result"
    }
   ],
   "source": [
    "# Create a string named str\n",
    "str = \"Jack and Jill\"\n",
    "\n",
    "# Convert a string to uppercase\n",
    "str.upper() # 'JACK AND JILL'\n",
    "\n",
    "# Convert a string to lowercase\n",
    "str.lower() # 'jack and jill'\n",
    "\n",
    "# Convert a string to title case\n",
    "str.title() # 'Jack And Jill' \n",
    "\n",
    "# Replaces matches of a substring with another\n",
    "str.replace(\"J\", \"P\") # 'Pack and Pill'"
   ]
  },
  {
   "cell_type": "code",
   "execution_count": 13,
   "metadata": {},
   "outputs": [
    {
     "name": "stdout",
     "output_type": "stream",
     "text": [
      "1\n",
      "2\n",
      "3\n",
      "4\n",
      "5\n"
     ]
    }
   ],
   "source": [
    "# Define a list\n",
    "x = [1, 2, 3, 4, 5]\n",
    "\n",
    "# Using a for loop to iterate over the list\n",
    "for item in x:\n",
    "    print(item)\n"
   ]
  },
  {
   "cell_type": "code",
   "execution_count": 15,
   "metadata": {},
   "outputs": [
    {
     "name": "stdout",
     "output_type": "stream",
     "text": [
      "0\n",
      "1\n",
      "2\n",
      "3\n",
      "4\n"
     ]
    }
   ],
   "source": [
    "# Using a for loop to iterate over a range\n",
    "for i in range(5):\n",
    "    print(i)\n"
   ]
  },
  {
   "cell_type": "code",
   "execution_count": 14,
   "metadata": {},
   "outputs": [
    {
     "name": "stdout",
     "output_type": "stream",
     "text": [
      "Index 0: a\n",
      "Index 1: b\n",
      "Index 2: c\n"
     ]
    }
   ],
   "source": [
    "# Define a list\n",
    "x = ['a', 'b', 'c']\n",
    "\n",
    "# Using a for loop with enumerate to access both index and value\n",
    "for index, value in enumerate(x):\n",
    "    print(f\"Index {index}: {value}\")\n"
   ]
  }
 ],
 "metadata": {
  "kernelspec": {
   "display_name": "base",
   "language": "python",
   "name": "python3"
  },
  "language_info": {
   "codemirror_mode": {
    "name": "ipython",
    "version": 3
   },
   "file_extension": ".py",
   "mimetype": "text/x-python",
   "name": "python",
   "nbconvert_exporter": "python",
   "pygments_lexer": "ipython3",
   "version": "3.11.4"
  }
 },
 "nbformat": 4,
 "nbformat_minor": 2
}
